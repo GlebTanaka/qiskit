{
 "cells": [
  {
   "metadata": {
    "ExecuteTime": {
     "end_time": "2024-07-20T09:11:08.347725Z",
     "start_time": "2024-07-20T09:10:59.397544Z"
    }
   },
   "cell_type": "code",
   "source": "import qiskit",
   "id": "71d42c905e593b41",
   "outputs": [],
   "execution_count": 2
  },
  {
   "metadata": {
    "ExecuteTime": {
     "end_time": "2024-07-20T09:11:19.479449Z",
     "start_time": "2024-07-20T09:11:19.459124Z"
    }
   },
   "cell_type": "code",
   "source": "qiskit.__version__",
   "id": "ae0dbcdde2f4e40d",
   "outputs": [
    {
     "data": {
      "text/plain": [
       "'1.1.1'"
      ]
     },
     "execution_count": 3,
     "metadata": {},
     "output_type": "execute_result"
    }
   ],
   "execution_count": 3
  },
  {
   "metadata": {
    "ExecuteTime": {
     "end_time": "2024-07-20T12:00:29.349126Z",
     "start_time": "2024-07-20T12:00:29.335846Z"
    }
   },
   "cell_type": "code",
   "source": [
    "from dotenv import load_dotenv\n",
    "import os\n",
    "\n",
    "load_dotenv()\n",
    "\n",
    "api_key = os.getenv('API_KEY')"
   ],
   "id": "ea306729fac68b69",
   "outputs": [],
   "execution_count": 6
  },
  {
   "metadata": {
    "ExecuteTime": {
     "end_time": "2024-07-20T12:26:27.169198Z",
     "start_time": "2024-07-20T12:26:24.414502Z"
    }
   },
   "cell_type": "code",
   "source": [
    "from qiskit_ibm_runtime import QiskitRuntimeService\n",
    "\n",
    "service = QiskitRuntimeService(channel=\"ibm_quantum\", token=api_key)"
   ],
   "id": "83dbf883b6dd1fb9",
   "outputs": [],
   "execution_count": 14
  },
  {
   "metadata": {
    "ExecuteTime": {
     "end_time": "2024-07-20T12:28:00.525795Z",
     "start_time": "2024-07-20T12:28:00.510275Z"
    }
   },
   "cell_type": "code",
   "source": "QiskitRuntimeService.save_account(channel=\"ibm_quantum\", token=api_key, set_as_default=True,overwrite=True,)",
   "id": "138b0bd283e06172",
   "outputs": [],
   "execution_count": 15
  },
  {
   "metadata": {
    "ExecuteTime": {
     "end_time": "2024-07-20T12:35:27.159729Z",
     "start_time": "2024-07-20T12:35:25.172143Z"
    }
   },
   "cell_type": "code",
   "source": "backend = service.backend(\"ibm_osaka\")",
   "id": "952e5e6adf8c4851",
   "outputs": [],
   "execution_count": 16
  },
  {
   "metadata": {
    "ExecuteTime": {
     "end_time": "2024-07-20T12:36:17.395700Z",
     "start_time": "2024-07-20T12:36:17.391889Z"
    }
   },
   "cell_type": "code",
   "source": "backend.num_qubits",
   "id": "23c524413f157f48",
   "outputs": [
    {
     "data": {
      "text/plain": [
       "127"
      ]
     },
     "execution_count": 17,
     "metadata": {},
     "output_type": "execute_result"
    }
   ],
   "execution_count": 17
  }
 ],
 "metadata": {
  "kernelspec": {
   "display_name": "Python 3",
   "language": "python",
   "name": "python3"
  },
  "language_info": {
   "codemirror_mode": {
    "name": "ipython",
    "version": 2
   },
   "file_extension": ".py",
   "mimetype": "text/x-python",
   "name": "python",
   "nbconvert_exporter": "python",
   "pygments_lexer": "ipython2",
   "version": "2.7.6"
  }
 },
 "nbformat": 4,
 "nbformat_minor": 5
}
